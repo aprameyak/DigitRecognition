{
  "nbformat": 4,
  "nbformat_minor": 0,
  "metadata": {
    "colab": {
      "provenance": []
    },
    "kernelspec": {
      "name": "python3",
      "display_name": "Python 3"
    },
    "language_info": {
      "name": "python"
    },
    "widgets": {
      "application/vnd.jupyter.widget-state+json": {
        "c574076fc6a1467d8f82b5e487f7a81b": {
          "model_module": "@jupyter-widgets/controls",
          "model_name": "HBoxModel",
          "model_module_version": "1.5.0",
          "state": {
            "_dom_classes": [],
            "_model_module": "@jupyter-widgets/controls",
            "_model_module_version": "1.5.0",
            "_model_name": "HBoxModel",
            "_view_count": null,
            "_view_module": "@jupyter-widgets/controls",
            "_view_module_version": "1.5.0",
            "_view_name": "HBoxView",
            "box_style": "",
            "children": [
              "IPY_MODEL_f9349a0a2302440babe5d68ed031484f",
              "IPY_MODEL_ca457a13abf24efd9734db9168e47c26",
              "IPY_MODEL_fa60c7b6573c47e7833b1dd6b29f9c78"
            ],
            "layout": "IPY_MODEL_c9dc9ae6490d48ef8a8ef02e11a9773e"
          }
        },
        "f9349a0a2302440babe5d68ed031484f": {
          "model_module": "@jupyter-widgets/controls",
          "model_name": "HTMLModel",
          "model_module_version": "1.5.0",
          "state": {
            "_dom_classes": [],
            "_model_module": "@jupyter-widgets/controls",
            "_model_module_version": "1.5.0",
            "_model_name": "HTMLModel",
            "_view_count": null,
            "_view_module": "@jupyter-widgets/controls",
            "_view_module_version": "1.5.0",
            "_view_name": "HTMLView",
            "description": "",
            "description_tooltip": null,
            "layout": "IPY_MODEL_e8b3d348c844421dac9899909cea1d43",
            "placeholder": "​",
            "style": "IPY_MODEL_e11924d975bb4172897793495e2818bb",
            "value": "Dl Completed...: 100%"
          }
        },
        "ca457a13abf24efd9734db9168e47c26": {
          "model_module": "@jupyter-widgets/controls",
          "model_name": "FloatProgressModel",
          "model_module_version": "1.5.0",
          "state": {
            "_dom_classes": [],
            "_model_module": "@jupyter-widgets/controls",
            "_model_module_version": "1.5.0",
            "_model_name": "FloatProgressModel",
            "_view_count": null,
            "_view_module": "@jupyter-widgets/controls",
            "_view_module_version": "1.5.0",
            "_view_name": "ProgressView",
            "bar_style": "success",
            "description": "",
            "description_tooltip": null,
            "layout": "IPY_MODEL_8543a7490f23401780c9a7fefb92900d",
            "max": 5,
            "min": 0,
            "orientation": "horizontal",
            "style": "IPY_MODEL_a47a0018de134fb29a0ebbbbe34c070e",
            "value": 5
          }
        },
        "fa60c7b6573c47e7833b1dd6b29f9c78": {
          "model_module": "@jupyter-widgets/controls",
          "model_name": "HTMLModel",
          "model_module_version": "1.5.0",
          "state": {
            "_dom_classes": [],
            "_model_module": "@jupyter-widgets/controls",
            "_model_module_version": "1.5.0",
            "_model_name": "HTMLModel",
            "_view_count": null,
            "_view_module": "@jupyter-widgets/controls",
            "_view_module_version": "1.5.0",
            "_view_name": "HTMLView",
            "description": "",
            "description_tooltip": null,
            "layout": "IPY_MODEL_47cc1e12331b4eb79af8ef3b53ea6b3e",
            "placeholder": "​",
            "style": "IPY_MODEL_c64584ae9f33454da81549fac61048e9",
            "value": " 5/5 [00:00&lt;00:00,  5.92 file/s]"
          }
        },
        "c9dc9ae6490d48ef8a8ef02e11a9773e": {
          "model_module": "@jupyter-widgets/base",
          "model_name": "LayoutModel",
          "model_module_version": "1.2.0",
          "state": {
            "_model_module": "@jupyter-widgets/base",
            "_model_module_version": "1.2.0",
            "_model_name": "LayoutModel",
            "_view_count": null,
            "_view_module": "@jupyter-widgets/base",
            "_view_module_version": "1.2.0",
            "_view_name": "LayoutView",
            "align_content": null,
            "align_items": null,
            "align_self": null,
            "border": null,
            "bottom": null,
            "display": null,
            "flex": null,
            "flex_flow": null,
            "grid_area": null,
            "grid_auto_columns": null,
            "grid_auto_flow": null,
            "grid_auto_rows": null,
            "grid_column": null,
            "grid_gap": null,
            "grid_row": null,
            "grid_template_areas": null,
            "grid_template_columns": null,
            "grid_template_rows": null,
            "height": null,
            "justify_content": null,
            "justify_items": null,
            "left": null,
            "margin": null,
            "max_height": null,
            "max_width": null,
            "min_height": null,
            "min_width": null,
            "object_fit": null,
            "object_position": null,
            "order": null,
            "overflow": null,
            "overflow_x": null,
            "overflow_y": null,
            "padding": null,
            "right": null,
            "top": null,
            "visibility": null,
            "width": null
          }
        },
        "e8b3d348c844421dac9899909cea1d43": {
          "model_module": "@jupyter-widgets/base",
          "model_name": "LayoutModel",
          "model_module_version": "1.2.0",
          "state": {
            "_model_module": "@jupyter-widgets/base",
            "_model_module_version": "1.2.0",
            "_model_name": "LayoutModel",
            "_view_count": null,
            "_view_module": "@jupyter-widgets/base",
            "_view_module_version": "1.2.0",
            "_view_name": "LayoutView",
            "align_content": null,
            "align_items": null,
            "align_self": null,
            "border": null,
            "bottom": null,
            "display": null,
            "flex": null,
            "flex_flow": null,
            "grid_area": null,
            "grid_auto_columns": null,
            "grid_auto_flow": null,
            "grid_auto_rows": null,
            "grid_column": null,
            "grid_gap": null,
            "grid_row": null,
            "grid_template_areas": null,
            "grid_template_columns": null,
            "grid_template_rows": null,
            "height": null,
            "justify_content": null,
            "justify_items": null,
            "left": null,
            "margin": null,
            "max_height": null,
            "max_width": null,
            "min_height": null,
            "min_width": null,
            "object_fit": null,
            "object_position": null,
            "order": null,
            "overflow": null,
            "overflow_x": null,
            "overflow_y": null,
            "padding": null,
            "right": null,
            "top": null,
            "visibility": null,
            "width": null
          }
        },
        "e11924d975bb4172897793495e2818bb": {
          "model_module": "@jupyter-widgets/controls",
          "model_name": "DescriptionStyleModel",
          "model_module_version": "1.5.0",
          "state": {
            "_model_module": "@jupyter-widgets/controls",
            "_model_module_version": "1.5.0",
            "_model_name": "DescriptionStyleModel",
            "_view_count": null,
            "_view_module": "@jupyter-widgets/base",
            "_view_module_version": "1.2.0",
            "_view_name": "StyleView",
            "description_width": ""
          }
        },
        "8543a7490f23401780c9a7fefb92900d": {
          "model_module": "@jupyter-widgets/base",
          "model_name": "LayoutModel",
          "model_module_version": "1.2.0",
          "state": {
            "_model_module": "@jupyter-widgets/base",
            "_model_module_version": "1.2.0",
            "_model_name": "LayoutModel",
            "_view_count": null,
            "_view_module": "@jupyter-widgets/base",
            "_view_module_version": "1.2.0",
            "_view_name": "LayoutView",
            "align_content": null,
            "align_items": null,
            "align_self": null,
            "border": null,
            "bottom": null,
            "display": null,
            "flex": null,
            "flex_flow": null,
            "grid_area": null,
            "grid_auto_columns": null,
            "grid_auto_flow": null,
            "grid_auto_rows": null,
            "grid_column": null,
            "grid_gap": null,
            "grid_row": null,
            "grid_template_areas": null,
            "grid_template_columns": null,
            "grid_template_rows": null,
            "height": null,
            "justify_content": null,
            "justify_items": null,
            "left": null,
            "margin": null,
            "max_height": null,
            "max_width": null,
            "min_height": null,
            "min_width": null,
            "object_fit": null,
            "object_position": null,
            "order": null,
            "overflow": null,
            "overflow_x": null,
            "overflow_y": null,
            "padding": null,
            "right": null,
            "top": null,
            "visibility": null,
            "width": null
          }
        },
        "a47a0018de134fb29a0ebbbbe34c070e": {
          "model_module": "@jupyter-widgets/controls",
          "model_name": "ProgressStyleModel",
          "model_module_version": "1.5.0",
          "state": {
            "_model_module": "@jupyter-widgets/controls",
            "_model_module_version": "1.5.0",
            "_model_name": "ProgressStyleModel",
            "_view_count": null,
            "_view_module": "@jupyter-widgets/base",
            "_view_module_version": "1.2.0",
            "_view_name": "StyleView",
            "bar_color": null,
            "description_width": ""
          }
        },
        "47cc1e12331b4eb79af8ef3b53ea6b3e": {
          "model_module": "@jupyter-widgets/base",
          "model_name": "LayoutModel",
          "model_module_version": "1.2.0",
          "state": {
            "_model_module": "@jupyter-widgets/base",
            "_model_module_version": "1.2.0",
            "_model_name": "LayoutModel",
            "_view_count": null,
            "_view_module": "@jupyter-widgets/base",
            "_view_module_version": "1.2.0",
            "_view_name": "LayoutView",
            "align_content": null,
            "align_items": null,
            "align_self": null,
            "border": null,
            "bottom": null,
            "display": null,
            "flex": null,
            "flex_flow": null,
            "grid_area": null,
            "grid_auto_columns": null,
            "grid_auto_flow": null,
            "grid_auto_rows": null,
            "grid_column": null,
            "grid_gap": null,
            "grid_row": null,
            "grid_template_areas": null,
            "grid_template_columns": null,
            "grid_template_rows": null,
            "height": null,
            "justify_content": null,
            "justify_items": null,
            "left": null,
            "margin": null,
            "max_height": null,
            "max_width": null,
            "min_height": null,
            "min_width": null,
            "object_fit": null,
            "object_position": null,
            "order": null,
            "overflow": null,
            "overflow_x": null,
            "overflow_y": null,
            "padding": null,
            "right": null,
            "top": null,
            "visibility": null,
            "width": null
          }
        },
        "c64584ae9f33454da81549fac61048e9": {
          "model_module": "@jupyter-widgets/controls",
          "model_name": "DescriptionStyleModel",
          "model_module_version": "1.5.0",
          "state": {
            "_model_module": "@jupyter-widgets/controls",
            "_model_module_version": "1.5.0",
            "_model_name": "DescriptionStyleModel",
            "_view_count": null,
            "_view_module": "@jupyter-widgets/base",
            "_view_module_version": "1.2.0",
            "_view_name": "StyleView",
            "description_width": ""
          }
        }
      }
    }
  },
  "cells": [
    {
      "cell_type": "markdown",
      "source": [
        "First we will need to import tensorflow so that we can use it to train a machine learning model that can classify hand written digits.\n",
        "\n",
        "We will also import the tensorflow datasets library so that we can load our dataset.\n",
        "\n",
        "Finally, we import matplotlib, which we will use to display the images."
      ],
      "metadata": {
        "id": "5q6iPRSpP1sZ"
      }
    },
    {
      "cell_type": "code",
      "execution_count": null,
      "metadata": {
        "id": "9QkuxIfSPcyD"
      },
      "outputs": [],
      "source": [
        "import tensorflow as tf\n",
        "import tensorflow_datasets as tfds\n",
        "\n",
        "import matplotlib.pyplot as plt"
      ]
    },
    {
      "cell_type": "markdown",
      "source": [
        "Let's load our data.\n",
        "\n",
        "We will use the function `tfds.load()` to get a nicely prepackaged and cleaned dataset. Let's take a look at the parameters we pass to this function.\n",
        "\n",
        "1. `'mnist`' - this downloads the MNIST dataset, which is the dataset we want. There are a lot of other datasets available but each of them require a different approach so we will focus on just mnist for today.\n",
        "2. `split=['train', 'test]` this splits our training data into two parts, a train set and a test set. The trainset has 60,000 examples and the test set has 10,000. This allows us to check our work\n",
        "3. `shuffle_files=True` will make sure we shuffle our data up. We don't want our nueral network to guess what digit it is looking at based on the previous number it looked at. If we didn't shuffle, the nueral network would just learn that if the last number it saw was a 5, for example, the next number must be 6, and so forth.\n",
        "4. `as_supervised=True` just makes the format of the data equivlant to a bunch of tuples of the form: `(image of digit, label of digit)`.\n",
        "5. `with_info` will grab some more info about the dataset for us to look at.\n",
        "\n",
        "\n",
        "\n",
        "Feel free to read up more about the MNIST dataset at this link: https://www.tensorflow.org/datasets/catalog/mnist or read more about it by running the cell below to see `dataset_info`."
      ],
      "metadata": {
        "id": "BD5cv3j5Qyxh"
      }
    },
    {
      "cell_type": "code",
      "source": [
        "(dataset_train, dataset_test), dataset_info = tfds.load(\n",
        "    'mnist',\n",
        "    split=['train', 'test'],\n",
        "    shuffle_files=True,\n",
        "    as_supervised=True,\n",
        "    with_info=True,\n",
        ")"
      ],
      "metadata": {
        "id": "cU7Ew7nvQCvx",
        "colab": {
          "base_uri": "https://localhost:8080/",
          "height": 85,
          "referenced_widgets": [
            "c574076fc6a1467d8f82b5e487f7a81b",
            "f9349a0a2302440babe5d68ed031484f",
            "ca457a13abf24efd9734db9168e47c26",
            "fa60c7b6573c47e7833b1dd6b29f9c78",
            "c9dc9ae6490d48ef8a8ef02e11a9773e",
            "e8b3d348c844421dac9899909cea1d43",
            "e11924d975bb4172897793495e2818bb",
            "8543a7490f23401780c9a7fefb92900d",
            "a47a0018de134fb29a0ebbbbe34c070e",
            "47cc1e12331b4eb79af8ef3b53ea6b3e",
            "c64584ae9f33454da81549fac61048e9"
          ]
        },
        "outputId": "288cf552-9dc6-4f2c-ae99-9f250e07051e"
      },
      "execution_count": null,
      "outputs": [
        {
          "output_type": "stream",
          "name": "stdout",
          "text": [
            "Downloading and preparing dataset 11.06 MiB (download: 11.06 MiB, generated: 21.00 MiB, total: 32.06 MiB) to /root/tensorflow_datasets/mnist/3.0.1...\n"
          ]
        },
        {
          "output_type": "display_data",
          "data": {
            "text/plain": [
              "Dl Completed...:   0%|          | 0/5 [00:00<?, ? file/s]"
            ],
            "application/vnd.jupyter.widget-view+json": {
              "version_major": 2,
              "version_minor": 0,
              "model_id": "c574076fc6a1467d8f82b5e487f7a81b"
            }
          },
          "metadata": {}
        },
        {
          "output_type": "stream",
          "name": "stdout",
          "text": [
            "Dataset mnist downloaded and prepared to /root/tensorflow_datasets/mnist/3.0.1. Subsequent calls will reuse this data.\n"
          ]
        }
      ]
    },
    {
      "cell_type": "code",
      "source": [
        "dataset_info"
      ],
      "metadata": {
        "colab": {
          "base_uri": "https://localhost:8080/"
        },
        "id": "PoVnA6WDYAgQ",
        "outputId": "24eab732-1363-4133-90b0-43bc8c3668f8"
      },
      "execution_count": null,
      "outputs": [
        {
          "output_type": "execute_result",
          "data": {
            "text/plain": [
              "tfds.core.DatasetInfo(\n",
              "    name='mnist',\n",
              "    full_name='mnist/3.0.1',\n",
              "    description=\"\"\"\n",
              "    The MNIST database of handwritten digits.\n",
              "    \"\"\",\n",
              "    homepage='http://yann.lecun.com/exdb/mnist/',\n",
              "    data_dir='/root/tensorflow_datasets/mnist/incomplete.XTGJ54_3.0.1/',\n",
              "    file_format=tfrecord,\n",
              "    download_size=11.06 MiB,\n",
              "    dataset_size=21.00 MiB,\n",
              "    features=FeaturesDict({\n",
              "        'image': Image(shape=(28, 28, 1), dtype=uint8),\n",
              "        'label': ClassLabel(shape=(), dtype=int64, num_classes=10),\n",
              "    }),\n",
              "    supervised_keys=('image', 'label'),\n",
              "    disable_shuffling=False,\n",
              "    splits={\n",
              "        'test': <SplitInfo num_examples=10000, num_shards=1>,\n",
              "        'train': <SplitInfo num_examples=60000, num_shards=1>,\n",
              "    },\n",
              "    citation=\"\"\"@article{lecun2010mnist,\n",
              "      title={MNIST handwritten digit database},\n",
              "      author={LeCun, Yann and Cortes, Corinna and Burges, CJ},\n",
              "      journal={ATT Labs [Online]. Available: http://yann.lecun.com/exdb/mnist},\n",
              "      volume={2},\n",
              "      year={2010}\n",
              "    }\"\"\",\n",
              ")"
            ]
          },
          "metadata": {},
          "execution_count": 4
        }
      ]
    },
    {
      "cell_type": "markdown",
      "source": [
        "Next we are going to prepare our dataset so that we can use it to train our model.\n",
        "\n",
        "Let's first take a look at the first example in our dataset.\n",
        "The first element is a tuple, with two elements as you can see in the code cell below."
      ],
      "metadata": {
        "id": "X7YEXYfEUlB9"
      }
    },
    {
      "cell_type": "code",
      "source": [
        "for x in dataset_train:\n",
        "    img, label = x\n",
        "    plt.imshow(img[:,:,0], cmap='gray')\n",
        "\n",
        "    print(\"Each element in our dataset is of type:\", type(x))\n",
        "    print(\"The label of this element is:\", label)\n",
        "    print(\"The shape of this image is:\", img.shape)\n",
        "\n",
        "    break"
      ],
      "metadata": {
        "colab": {
          "base_uri": "https://localhost:8080/",
          "height": 484
        },
        "id": "y3Z7kjQjU_hU",
        "outputId": "afcdc98c-a95d-4ba9-ca6d-67540bea811b"
      },
      "execution_count": null,
      "outputs": [
        {
          "output_type": "stream",
          "name": "stdout",
          "text": [
            "Each element in our dataset is of type: <class 'tuple'>\n",
            "The label of this element is: tf.Tensor(4, shape=(), dtype=int64)\n",
            "The shape of this image is: (28, 28, 1)\n"
          ]
        },
        {
          "output_type": "display_data",
          "data": {
            "text/plain": [
              "<Figure size 640x480 with 1 Axes>"
            ],
            "image/png": "[encoded data removed]"
          },
          "metadata": {}
        }
      ]
    },
    {
      "cell_type": "markdown",
      "source": [
        "First we need to convert the data type of the images from unsigned 8-bit integers to 32-bit float. This is because the nueral network we will use expects 32-bit floats.\n",
        "\n",
        "Next we will devide the images by 255 because that will keep all the values in the image between 0 and 1 rather than between 0 and 255.\n",
        "Having smaller values allows training to go faster.\n",
        "\n",
        "We also batch our data. This means we split our 60,000 training examples into batches or groups of 128 examples and train on those. This allows our model to view 128 different images and their labels at once and learn from them all at the same time. This means it will be almost 128x as fast to train!"
      ],
      "metadata": {
        "id": "0I0x8OACXR3e"
      }
    },
    {
      "cell_type": "code",
      "source": [
        "def normalize_img(image, label):\n",
        "    \"\"\"Normalizes images from unsigned 8-bit integers to 32-bit float.\n",
        "    Also scales all values to be between 0 and 1 rather than 0 and 255.\"\"\"\n",
        "    # rescale the image to be between 0 and 1 by dividing it by 255\n",
        "    ### YOUR CODE HERE ###\n",
        "    image = tf.cast(image, tf.float32)\n",
        "    image = image / 255\n",
        "\n",
        "    return image, label\n",
        "\n",
        "# apply our normalization function to our dataset\n",
        "dataset_train = dataset_train.map(normalize_img)\n",
        "\n",
        "# next we shuffle up our training data again\n",
        "dataset_train = dataset_train.shuffle(dataset_info.splits['train'].num_examples)\n",
        "\n",
        "# finally we batch our data to allow us to train faster\n",
        "dataset_train = dataset_train.batch(128)\n",
        "\n",
        "\n",
        "# do the same for our testing data. Make sure to normalize it and to batch it only\n",
        "# no need to shuffle.\n",
        "dataset_test = dataset_test.map(normalize_img)\n",
        "dataset_test = dataset_test.batch(128)"
      ],
      "metadata": {
        "id": "tEb2CDLVSjoy"
      },
      "execution_count": null,
      "outputs": []
    },
    {
      "cell_type": "markdown",
      "source": [
        "Time to make our model, the fun part!\n",
        "\n",
        "Our model is sequential. This means that data only flows one way. In other words, the model guesses what the image but its current guess doesn't affect its next guess.\n",
        "\n",
        "Next, we flatten the input to the model. This means we take our image that is 28 by 28 pixels and convert it to one long list that is 784 (28 x 28) long.\n",
        "\n",
        "Then we take that 784 long list and use that as input to our first dense, or fully connected layer. This layer has 128 nuerons, hence the 128. The relu activation is a function. Feel free to read more about it [here](https://en.wikipedia.org/wiki/Rectifier_(neural_networks)).\n",
        "\n",
        "Finally, we have one more dense layer which has 10 nuerons. This is our output layer. Each of these neurons in the output layer represent how likely a digit (numbered 0 through 9) is to be the number written in the input image. In other words, if the 0th nueron is the largest number, then 0 is the digit the model guesses is in the image."
      ],
      "metadata": {
        "id": "TO3I6w_SZfgU"
      }
    },
    {
      "cell_type": "code",
      "source": [
        "# You can create your own model by changing the numbers of neurons, adding more layers, and using different acitvation functions.\n",
        "# play around with it and see what accuracy you can acheieve in the next steps!\n",
        "\n",
        "model = tf.keras.models.Sequential([\n",
        "  tf.keras.layers.Flatten(input_shape=(28, 28)),\n",
        "  ### YOUR CODE HERE ###\n",
        "  tf.keras.layers.Dense(128, activation=\"relu\"),\n",
        "  tf.keras.layers.Dense(10),\n",
        "])"
      ],
      "metadata": {
        "id": "QYVABpEWX8nx",
        "colab": {
          "base_uri": "https://localhost:8080/"
        },
        "outputId": "b778f901-de51-43a5-c891-58366cb1a207"
      },
      "execution_count": null,
      "outputs": [
        {
          "output_type": "stream",
          "name": "stderr",
          "text": [
            "/usr/local/lib/python3.10/dist-packages/keras/src/layers/reshaping/flatten.py:37: UserWarning: Do not pass an `input_shape`/`input_dim` argument to a layer. When using Sequential models, prefer using an `Input(shape)` object as the first layer in the model instead.\n",
            "  super().__init__(**kwargs)\n"
          ]
        }
      ]
    },
    {
      "cell_type": "markdown",
      "source": [
        "Now we will compile our model, which allows us to actually train our model.\n",
        "\n",
        "The optimizer is what looks at how accurate our model is and modifies the weights and biases to make our model more accurate. The loss parameter is a function that determines how inaccurate our model is on each prediction. The optimizer uses this value from the loss function to make tweaks."
      ],
      "metadata": {
        "id": "n41Mm7-AoHlR"
      }
    },
    {
      "cell_type": "code",
      "source": [
        "model.compile(\n",
        "    optimizer=tf.keras.optimizers.Adam(0.001),\n",
        "    loss=tf.keras.losses.SparseCategoricalCrossentropy(from_logits=True),\n",
        "    metrics=[\"accuracy\"]\n",
        ")"
      ],
      "metadata": {
        "id": "DSu54o3UZxxG"
      },
      "execution_count": null,
      "outputs": []
    },
    {
      "cell_type": "markdown",
      "source": [
        "Let's check to see how accurate it is before we even start training. We can expect it to be somwhere around 10% accurate because there are 10 possible digits and the intial values in the model are assigned randomly.\n",
        "\n",
        "If you run the last few cells a few different times you will notice your accuracy is different everytime depending on what random values the model starts with."
      ],
      "metadata": {
        "id": "w21NQLCdsYZd"
      }
    },
    {
      "cell_type": "code",
      "source": [
        "results = model.evaluate(dataset_train)\n",
        "print(\"Our training loss and accuracy:\", results)\n",
        "\n",
        "results = model.evaluate(dataset_test)\n",
        "print(\"Our testing loss and accuracy:\", results)"
      ],
      "metadata": {
        "colab": {
          "base_uri": "https://localhost:8080/"
        },
        "id": "-PJkX81nsOem",
        "outputId": "f1db41c0-4b92-4f28-b038-ed53065231f7"
      },
      "execution_count": null,
      "outputs": [
        {
          "output_type": "stream",
          "name": "stdout",
          "text": [
            "\u001b[1m469/469\u001b[0m \u001b[32m━━━━━━━━━━━━━━━━━━━━\u001b[0m\u001b[37m\u001b[0m \u001b[1m8s\u001b[0m 4ms/step - accuracy: 0.0992 - loss: 2.3651\n",
            "Our training loss and accuracy: [2.3648016452789307, 0.09938333183526993]\n",
            "\u001b[1m79/79\u001b[0m \u001b[32m━━━━━━━━━━━━━━━━━━━━\u001b[0m\u001b[37m\u001b[0m \u001b[1m1s\u001b[0m 13ms/step - accuracy: 0.1019 - loss: 2.3755\n",
            "Our testing loss and accuracy: [2.372036933898926, 0.09610000252723694]\n"
          ]
        }
      ]
    },
    {
      "cell_type": "markdown",
      "source": [
        "Finally, we can train our model. We will train it on our training dataset and we will check to see how accurate we are after each epoch using our testing dataset. It is important to remember that we only use the values in the training dataset to make improvements to our model and we will only use the testing dataset to see our accuracy.\n",
        "\n",
        "Each epoch is one complete use of the entire dataset to train. We will train on the entire dataset 8 times, after which we have acheieved a very high accuracy."
      ],
      "metadata": {
        "id": "yL6odLswo03v"
      }
    },
    {
      "cell_type": "code",
      "source": [
        "history = model.fit(\n",
        "    # which dataset should we use to train?\n",
        "    ### YOUR CODE HERE ###\n",
        "    dataset_train,\n",
        "    epochs=8,\n",
        "    validation_data=dataset_test,\n",
        ")"
      ],
      "metadata": {
        "colab": {
          "base_uri": "https://localhost:8080/"
        },
        "id": "VYrK4XftZx5R",
        "outputId": "520a68da-0281-47df-bd83-6774a8bed15e"
      },
      "execution_count": null,
      "outputs": [
        {
          "output_type": "stream",
          "name": "stdout",
          "text": [
            "Epoch 1/8\n",
            "\u001b[1m469/469\u001b[0m \u001b[32m━━━━━━━━━━━━━━━━━━━━\u001b[0m\u001b[37m\u001b[0m \u001b[1m6s\u001b[0m 6ms/step - accuracy: 0.8346 - loss: 0.6086 - val_accuracy: 0.9483 - val_loss: 0.1851\n",
            "Epoch 2/8\n",
            "\u001b[1m469/469\u001b[0m \u001b[32m━━━━━━━━━━━━━━━━━━━━\u001b[0m\u001b[37m\u001b[0m \u001b[1m7s\u001b[0m 9ms/step - accuracy: 0.9480 - loss: 0.1761 - val_accuracy: 0.9623 - val_loss: 0.1296\n",
            "Epoch 3/8\n",
            "\u001b[1m469/469\u001b[0m \u001b[32m━━━━━━━━━━━━━━━━━━━━\u001b[0m\u001b[37m\u001b[0m \u001b[1m9s\u001b[0m 6ms/step - accuracy: 0.9651 - loss: 0.1196 - val_accuracy: 0.9676 - val_loss: 0.1091\n",
            "Epoch 4/8\n",
            "\u001b[1m469/469\u001b[0m \u001b[32m━━━━━━━━━━━━━━━━━━━━\u001b[0m\u001b[37m\u001b[0m \u001b[1m7s\u001b[0m 8ms/step - accuracy: 0.9748 - loss: 0.0875 - val_accuracy: 0.9730 - val_loss: 0.0917\n",
            "Epoch 5/8\n",
            "\u001b[1m469/469\u001b[0m \u001b[32m━━━━━━━━━━━━━━━━━━━━\u001b[0m\u001b[37m\u001b[0m \u001b[1m5s\u001b[0m 6ms/step - accuracy: 0.9803 - loss: 0.0713 - val_accuracy: 0.9747 - val_loss: 0.0844\n",
            "Epoch 6/8\n",
            "\u001b[1m469/469\u001b[0m \u001b[32m━━━━━━━━━━━━━━━━━━━━\u001b[0m\u001b[37m\u001b[0m \u001b[1m6s\u001b[0m 8ms/step - accuracy: 0.9832 - loss: 0.0584 - val_accuracy: 0.9763 - val_loss: 0.0814\n",
            "Epoch 7/8\n",
            "\u001b[1m469/469\u001b[0m \u001b[32m━━━━━━━━━━━━━━━━━━━━\u001b[0m\u001b[37m\u001b[0m \u001b[1m9s\u001b[0m 6ms/step - accuracy: 0.9860 - loss: 0.0486 - val_accuracy: 0.9753 - val_loss: 0.0795\n",
            "Epoch 8/8\n",
            "\u001b[1m469/469\u001b[0m \u001b[32m━━━━━━━━━━━━━━━━━━━━\u001b[0m\u001b[37m\u001b[0m \u001b[1m6s\u001b[0m 8ms/step - accuracy: 0.9888 - loss: 0.0399 - val_accuracy: 0.9774 - val_loss: 0.0752\n"
          ]
        }
      ]
    },
    {
      "cell_type": "markdown",
      "source": [
        "Can you guess why the accuracy from our training dataset is high than our testing dataset accuracy?"
      ],
      "metadata": {
        "id": "oQpoJG9appLv"
      }
    },
    {
      "cell_type": "code",
      "source": [
        "results = model.evaluate(dataset_train)\n",
        "print(\"Our training loss and accuracy:\", results)\n",
        "\n",
        "results = model.evaluate(dataset_test)\n",
        "print(\"Our testing loss and accuracy:\", results)"
      ],
      "metadata": {
        "id": "vmdm1cmCpsN0",
        "outputId": "d258e866-130d-48b2-fbfb-835e07aa446a",
        "colab": {
          "base_uri": "https://localhost:8080/"
        }
      },
      "execution_count": null,
      "outputs": [
        {
          "output_type": "stream",
          "name": "stdout",
          "text": [
            "\u001b[1m469/469\u001b[0m \u001b[32m━━━━━━━━━━━━━━━━━━━━\u001b[0m\u001b[37m\u001b[0m \u001b[1m4s\u001b[0m 2ms/step - accuracy: 0.9913 - loss: 0.0327\n",
            "Our training loss and accuracy: [0.032172635197639465, 0.9918500185012817]\n",
            "\u001b[1m79/79\u001b[0m \u001b[32m━━━━━━━━━━━━━━━━━━━━\u001b[0m\u001b[37m\u001b[0m \u001b[1m0s\u001b[0m 6ms/step - accuracy: 0.9763 - loss: 0.0743\n",
            "Our testing loss and accuracy: [0.07522503286600113, 0.977400004863739]\n"
          ]
        }
      ]
    },
    {
      "cell_type": "markdown",
      "source": [
        "Now let's graph the history of the accuracy over each of the epochs.\n",
        "\n",
        "As you can see, our accuracy improves overtime, as does the validation accuracy.\n",
        "Even though our accuracy was only arround 10% before we started training, by the end of the 0th epoch, we already got to 90% accuracy."
      ],
      "metadata": {
        "id": "XcQc68jFxOMQ"
      }
    },
    {
      "cell_type": "code",
      "source": [
        "plt.plot(history.history['accuracy'])\n",
        "plt.plot(history.history['val_accuracy'])\n",
        "plt.title('model accuracy')\n",
        "plt.ylabel('accuracy')\n",
        "plt.xlabel('epoch')\n",
        "plt.legend(['train', 'val'], loc='best')\n",
        "plt.show()"
      ],
      "metadata": {
        "id": "hr4EAekMqiiL",
        "outputId": "3400fba1-4006-4b04-a3a7-2c96321c901a",
        "colab": {
          "base_uri": "https://localhost:8080/",
          "height": 472
        }
      },
      "execution_count": null,
      "outputs": [
        {
          "output_type": "display_data",
          "data": {
            "text/plain": [
              "<Figure size 640x480 with 1 Axes>"
            ],
            "image/png": "[encoded data removed]"
          },
          "metadata": {}
        }
      ]
    },
    {
      "cell_type": "markdown",
      "source": [
        "Now let's use our model to make predictions on our test set and display them.\n",
        "\n",
        "\n",
        "To do so, we first unbatch our test dataset so we only grab a random sample of 1 image and label at a time instead of 128 of them.\n",
        "\n",
        "Next we use the model to make a prediction on the image. We can print out that prediction but it isn't very useful to us humans yet. We need to first take the arg-max, or the index position of the maximum value of the prediction."
      ],
      "metadata": {
        "id": "fWwCquzvsycN"
      }
    },
    {
      "cell_type": "code",
      "source": [
        "dataset_test = dataset_test.unbatch()\n",
        "dataset_test = dataset_test.shuffle(buffer_size=dataset_info.splits['test'].num_examples)"
      ],
      "metadata": {
        "id": "gp5ta8UJaUiJ"
      },
      "execution_count": null,
      "outputs": []
    },
    {
      "cell_type": "markdown",
      "source": [
        "Feel free to run this as many times as you want to see different images and the model's predictions.\n",
        "Are there times when the model does better than you, or when you do better than it?\n"
      ],
      "metadata": {
        "id": "_EwIqSd4waf7"
      }
    },
    {
      "cell_type": "code",
      "source": [
        "def random_prediction():\n",
        "    img, label = list(dataset_test.take(1))[0]\n",
        "    img = tf.reshape(img, (-1, 28, 28, 1))\n",
        "    print(img.shape, label.shape)\n",
        "\n",
        "    prediction = model.predict(img)\n",
        "    print(\"This is the prediction without it being processed first:\\n\", prediction)\n",
        "\n",
        "    processed_prediction = tf.math.argmax(prediction[0])\n",
        "\n",
        "    print(\"\\nThe model's prediction for the image:\", int(processed_prediction))\n",
        "    print(\"The actual label:\", int(label))\n",
        "    plt.imshow(img[0,:,:,0], cmap=\"gray\")\n",
        "\n",
        "\n",
        "random_prediction()"
      ],
      "metadata": {
        "id": "poIfa55JtOjH",
        "colab": {
          "base_uri": "https://localhost:8080/",
          "height": 573
        },
        "outputId": "6a65f5ba-e074-4f05-8593-07ebe6c0c936"
      },
      "execution_count": null,
      "outputs": [
        {
          "output_type": "stream",
          "name": "stdout",
          "text": [
            "(1, 28, 28, 1) ()\n",
            "\u001b[1m1/1\u001b[0m \u001b[32m━━━━━━━━━━━━━━━━━━━━\u001b[0m\u001b[37m\u001b[0m \u001b[1m0s\u001b[0m 56ms/step\n",
            "This is the prediction without it being processed first:\n",
            " [[-2.4798396  -3.142376   -4.2577763  -7.457212    7.905679   -8.4105625\n",
            "  -8.51027     1.4405136  -4.295697    0.37834918]]\n",
            "\n",
            "The model's prediction for the image: 4\n",
            "The actual label: 4\n"
          ]
        },
        {
          "output_type": "display_data",
          "data": {
            "text/plain": [
              "<Figure size 640x480 with 1 Axes>"
            ],
            "image/png": "[encoded data removed]"
          },
          "metadata": {}
        }
      ]
    },
    {
      "cell_type": "code",
      "source": [],
      "metadata": {
        "id": "zlE32dbbvRIj"
      },
      "execution_count": null,
      "outputs": []
    }
  ]
}